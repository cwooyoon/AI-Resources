{
 "cells": [
  {
   "cell_type": "markdown",
   "metadata": {},
   "source": [
    "# 예제 9-2"
   ]
  },
  {
   "cell_type": "code",
   "execution_count": 14,
   "metadata": {},
   "outputs": [],
   "source": [
    "import sklearn\n",
    "import numpy as np\n",
    "from sklearn import datasets # 보스턴 데이터셋\n",
    "from sklearn.linear_model import LinearRegression # 사이킷런 선형회귀함수"
   ]
  },
  {
   "cell_type": "code",
   "execution_count": null,
   "metadata": {},
   "outputs": [],
   "source": []
  },
  {
   "cell_type": "code",
   "execution_count": 15,
   "metadata": {},
   "outputs": [
    {
     "data": {
      "text/plain": [
       "'0.23.1'"
      ]
     },
     "execution_count": 15,
     "metadata": {},
     "output_type": "execute_result"
    }
   ],
   "source": [
    "sklearn.__version__ # 사이킷런의 버전을 확인합니다."
   ]
  },
  {
   "cell_type": "code",
   "execution_count": 16,
   "metadata": {},
   "outputs": [],
   "source": [
    "boston = datasets.load_boston() # 보스턴 데이터셋을 로드합니다"
   ]
  },
  {
   "cell_type": "code",
   "execution_count": 17,
   "metadata": {},
   "outputs": [
    {
     "name": "stdout",
     "output_type": "stream",
     "text": [
      "dict_keys(['data', 'target', 'feature_names', 'DESCR', 'filename'])\n"
     ]
    }
   ],
   "source": [
    "print(boston.keys()) \n",
    "# 데이터셋의 키값을 출력합니다. \n",
    "#data는 피쳐값, feature_name은 피쳐이름, target은 집값, DESCR은 데이터 출처, filename은 파일패스를 나타냅니다. "
   ]
  },
  {
   "cell_type": "code",
   "execution_count": 20,
   "metadata": {},
   "outputs": [
    {
     "name": "stdout",
     "output_type": "stream",
     "text": [
      "['CRIM' 'ZN' 'INDUS' 'CHAS' 'NOX' 'RM' 'AGE' 'DIS' 'RAD' 'TAX' 'PTRATIO'\n",
      " 'B' 'LSTAT']\n"
     ]
    }
   ],
   "source": [
    "print(boston.feature_names)\n"
   ]
  },
  {
   "cell_type": "code",
   "execution_count": 6,
   "metadata": {},
   "outputs": [
    {
     "data": {
      "text/plain": [
       "LinearRegression()"
      ]
     },
     "execution_count": 6,
     "metadata": {},
     "output_type": "execute_result"
    }
   ],
   "source": [
    "lr = LinearRegression() # 선형회귀모델 객체를 생성합니다 \n",
    "lr.fit(boston.data, boston.target) #데이터로 lr모델을 학습시킵니다"
   ]
  },
  {
   "cell_type": "code",
   "execution_count": 7,
   "metadata": {},
   "outputs": [
    {
     "name": "stdout",
     "output_type": "stream",
     "text": [
      "예측값: [30.56759672] 실제값: 34.7\n"
     ]
    }
   ],
   "source": [
    "predicted_price = lr.predict(boston.data[2].reshape(1,-1)) #3번째 데이터의 집값을 예측합니다. \n",
    "print('예측값:', predicted_price, '실제값:',boston.target[2])"
   ]
  },
  {
   "cell_type": "code",
   "execution_count": 8,
   "metadata": {},
   "outputs": [
    {
     "name": "stdout",
     "output_type": "stream",
     "text": [
      "[('CRIM', -0.10801135783679526), ('ZN', 0.046420458366882106), ('INDUS', 0.020558626367071533), ('CHAS', 2.6867338193449264), ('NOX', -17.766611228299798), ('RM', 3.809865206809205), ('AGE', 0.0006922246403396944), ('DIS', -1.4755668456002518), ('RAD', 0.30604947898516927), ('TAX', -0.012334593916574037), ('PTRATIO', -0.9527472317072867), ('B', 0.009311683273793402), ('LSTAT', -0.5247583778554925)]\n"
     ]
    }
   ],
   "source": [
    "print([x for x in zip(boston.feature_names, lr.coef_)]) \n",
    "# 피쳐명을 키로, 각 피쳐의 계수값을 밸류로 하는 딕셔너리를 만든 후 출력합니다. \n",
    "# 사이킷런 0.20에서 데이터포인트 [445, 0]의 값이 바뀌어서 계수가 책과는 약간 다릅니다.\n",
    "# https://scikit-learn.org/stable/modules/generated/sklearn.datasets.load_boston.html"
   ]
  },
  {
   "cell_type": "code",
   "execution_count": null,
   "metadata": {
    "collapsed": true
   },
   "outputs": [],
   "source": []
  }
 ],
 "metadata": {
  "kernelspec": {
   "display_name": "P37_T2_ML_Study",
   "language": "python",
   "name": "p37_t2_ml"
  },
  "language_info": {
   "codemirror_mode": {
    "name": "ipython",
    "version": 3
   },
   "file_extension": ".py",
   "mimetype": "text/x-python",
   "name": "python",
   "nbconvert_exporter": "python",
   "pygments_lexer": "ipython3",
   "version": "3.7.7"
  }
 },
 "nbformat": 4,
 "nbformat_minor": 2
}
